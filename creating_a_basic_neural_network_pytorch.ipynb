{
  "nbformat": 4,
  "nbformat_minor": 0,
  "metadata": {
    "colab": {
      "provenance": [],
      "gpuType": "T4",
      "authorship_tag": "ABX9TyMxS3VknCYgge+I5PVfpxFI",
      "include_colab_link": true
    },
    "kernelspec": {
      "name": "python3",
      "display_name": "Python 3"
    },
    "language_info": {
      "name": "python"
    },
    "accelerator": "GPU"
  },
  "cells": [
    {
      "cell_type": "markdown",
      "metadata": {
        "id": "view-in-github",
        "colab_type": "text"
      },
      "source": [
        "<a href=\"https://colab.research.google.com/github/ny-essien/pytorch-tutorial-/blob/main/creating_a_basic_neural_network_pytorch.ipynb\" target=\"_parent\"><img src=\"https://colab.research.google.com/assets/colab-badge.svg\" alt=\"Open In Colab\"/></a>"
      ]
    },
    {
      "cell_type": "code",
      "execution_count": 2,
      "metadata": {
        "id": "suBNGmmiCQSR"
      },
      "outputs": [],
      "source": [
        "import torch\n",
        "import torch.nn as nn\n",
        "import torch.nn.functional as F\n",
        "import numpy as np"
      ]
    },
    {
      "cell_type": "code",
      "source": [
        "### Creating a model class that inherits nn.Module\n",
        "class Model(nn.Module):\n",
        "  ## Input layer(4 features of the flower) --> Hidden layer -->\n",
        "  ## (number of neurons) --> output (3 classes of iris flowers)\n",
        "\n",
        "  def __init__(self, in_features = 4, h1 =8, h2 = 9, out_features = 3):\n",
        "    super().__init__() #instantiate our nn.Module\n",
        "    ## fc meaninf fully connected as the layers are fully connected\n",
        "    self.fc1 = nn.Linear(in_features, h1)\n",
        "    self.fc2 = nn.Linear(h1, h2)\n",
        "    self.out = nn.Linear(h2, out_features)\n",
        "\n",
        "\n",
        "  def forward(self,x):\n",
        "    x = F.relu(self.fc1(x))\n",
        "    x = F.relu(self.fc2(x))\n",
        "    x = self.out(x)\n",
        "\n",
        "    return x\n",
        "\n",
        "\n",
        "\n"
      ],
      "metadata": {
        "id": "52ziE7quDyKf"
      },
      "execution_count": 6,
      "outputs": []
    },
    {
      "cell_type": "code",
      "source": [
        "#before utilizing this, we need to first create a random\n",
        "#seed.\n",
        "##Pick a manual seed for randomizations\n",
        "\n",
        "torch.manual_seed(41)\n",
        "\n",
        "#creating an instance of model\n",
        "model = Model()"
      ],
      "metadata": {
        "id": "7osVV8A2G0b7"
      },
      "execution_count": 7,
      "outputs": []
    }
  ]
}